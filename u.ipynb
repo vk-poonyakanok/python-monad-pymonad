{
 "cells": [
  {
   "cell_type": "code",
   "execution_count": 8,
   "metadata": {},
   "outputs": [],
   "source": [
    "import csv\n",
    "import os\n",
    "from typing import Final\n",
    "from pymonad.tools import curry\n",
    "from pymonad.either import Left, Right, Either"
   ]
  },
  {
   "cell_type": "code",
   "execution_count": 28,
   "metadata": {},
   "outputs": [],
   "source": [
    "# The IO Monad class\n",
    "class IO:\n",
    "    def __init__(self, action):\n",
    "        self.action = action\n",
    "\n",
    "    def execute_action(self):\n",
    "        try:\n",
    "            return self.action()\n",
    "        except Exception as e:\n",
    "            return Left(str(e))\n",
    "\n",
    "    def bind(self, func):\n",
    "        result = self.execute_action()\n",
    "        if isinstance(result, Either):\n",
    "            if result.is_left():\n",
    "                return result\n",
    "            else:\n",
    "                try:\n",
    "                    return func(result.value)\n",
    "                except Exception as e:\n",
    "                    return Left(str(e))\n",
    "        else:\n",
    "            try:\n",
    "                return func(result)\n",
    "            except Exception as e:\n",
    "                return Left(str(e))\n",
    "\n",
    "    def then(self, func):\n",
    "        return self.bind(func)"
   ]
  },
  {
   "cell_type": "code",
   "execution_count": 30,
   "metadata": {},
   "outputs": [],
   "source": [
    "# Function to handle file reading, now properly wrapped in IO monad\n",
    "def read_csv_file(file_path):\n",
    "    def read_file():\n",
    "        if not os.path.exists(file_path):\n",
    "            return Left(\"Error: File not found\")\n",
    "        with open(file_path, 'r') as csvfile:\n",
    "            reader = csv.reader(csvfile)\n",
    "            return Right([row for row in reader])\n",
    "    return IO(read_file)\n",
    "\n",
    "def remove_header(data):\n",
    "    return (\n",
    "        Right(data[1:]) \n",
    "        if len(data) > 1 \n",
    "        else Left(\"Error: Unable to remove header\")\n",
    "    )\n",
    "\n",
    "@curry(2)\n",
    "def extract_column(column_index, data):\n",
    "    return (\n",
    "        Right(data).bind(lambda rows: \n",
    "        Right(list(map(lambda row: row[column_index], rows))))\n",
    "    )\n",
    "\n",
    "extract_score_column = extract_column(1)\n",
    "extract_name_column = extract_column(0)\n",
    "\n",
    "def convert_to_float(data):\n",
    "    return (\n",
    "        Right(list(map(float, data))) \n",
    "        if data \n",
    "        else Left(\"Error: Unable to convert to float\")\n",
    "    )\n",
    "\n",
    "\n",
    "def calculate_average(column_values):\n",
    "    return  (\n",
    "        Right(sum(column_values) / len(column_values)) \n",
    "        if column_values \n",
    "        else Left(\"Error: Division by zero\")\n",
    "    )"
   ]
  },
  {
   "cell_type": "code",
   "execution_count": 31,
   "metadata": {},
   "outputs": [],
   "source": [
    "# Data pipeline using the Either monad and custom sequencing operator\n",
    "csv_file_path = 'example.csv'"
   ]
  },
  {
   "cell_type": "code",
   "execution_count": 32,
   "metadata": {},
   "outputs": [],
   "source": [
    "data =  read_csv_file(csv_file_path)"
   ]
  },
  {
   "cell_type": "code",
   "execution_count": 48,
   "metadata": {},
   "outputs": [
    {
     "data": {
      "text/plain": [
       "<__main__.IO at 0x11b7e7810>"
      ]
     },
     "execution_count": 48,
     "metadata": {},
     "output_type": "execute_result"
    }
   ],
   "source": [
    "data"
   ]
  },
  {
   "cell_type": "code",
   "execution_count": 43,
   "metadata": {},
   "outputs": [
    {
     "name": "stdout",
     "output_type": "stream",
     "text": [
      "An average score of Alice, Bob, Charlie, David, Eva, Frank and Grace is 86.71428571428571\n"
     ]
    }
   ],
   "source": [
    "names = (\n",
    "    read_csv_file(csv_file_path)\n",
    "    .then(remove_header)\n",
    "    .then(extract_name_column)\n",
    ")\n",
    "\n",
    "result = (\n",
    "    read_csv_file(csv_file_path)\n",
    "    .then(remove_header)\n",
    "    .then(extract_score_column)\n",
    "    .then(convert_to_float)\n",
    "    .then(calculate_average)\n",
    ")\n",
    "\n",
    "# Check if the results are Right and proceed accordingly\n",
    "if result.is_right() and names.is_right():\n",
    "    names_list = names.value\n",
    "    average_score = result.value\n",
    "    print(f\"An average score of {', '.join(names_list[:-1])} and {names_list[-1]} is {average_score}\")\n",
    "else:\n",
    "    print(\"Error processing data\")"
   ]
  },
  {
   "cell_type": "code",
   "execution_count": 37,
   "metadata": {},
   "outputs": [
    {
     "data": {
      "text/plain": [
       "['Alice', 'Bob', 'Charlie', 'David', 'Eva', 'Frank', 'Grace']"
      ]
     },
     "execution_count": 37,
     "metadata": {},
     "output_type": "execute_result"
    }
   ],
   "source": [
    "names_list"
   ]
  },
  {
   "cell_type": "code",
   "execution_count": 39,
   "metadata": {},
   "outputs": [
    {
     "data": {
      "text/plain": [
       "Right ['Alice', 'Bob', 'Charlie', 'David', 'Eva', 'Frank', 'Grace']"
      ]
     },
     "execution_count": 39,
     "metadata": {},
     "output_type": "execute_result"
    }
   ],
   "source": [
    "names"
   ]
  },
  {
   "cell_type": "code",
   "execution_count": 45,
   "metadata": {},
   "outputs": [
    {
     "data": {
      "text/plain": [
       "Right 86.71428571428571"
      ]
     },
     "execution_count": 45,
     "metadata": {},
     "output_type": "execute_result"
    }
   ],
   "source": [
    "result"
   ]
  },
  {
   "cell_type": "code",
   "execution_count": 46,
   "metadata": {},
   "outputs": [
    {
     "data": {
      "text/plain": [
       "86.71428571428571"
      ]
     },
     "execution_count": 46,
     "metadata": {},
     "output_type": "execute_result"
    }
   ],
   "source": [
    "result.value"
   ]
  }
 ],
 "metadata": {
  "kernelspec": {
   "display_name": "base",
   "language": "python",
   "name": "python3"
  },
  "language_info": {
   "codemirror_mode": {
    "name": "ipython",
    "version": 3
   },
   "file_extension": ".py",
   "mimetype": "text/x-python",
   "name": "python",
   "nbconvert_exporter": "python",
   "pygments_lexer": "ipython3",
   "version": "3.11.5"
  }
 },
 "nbformat": 4,
 "nbformat_minor": 2
}
